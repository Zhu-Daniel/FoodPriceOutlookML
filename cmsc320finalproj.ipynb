{
 "cells": [
  {
   "cell_type": "markdown",
   "metadata": {},
   "source": [
    "# CMSC320 Final Project: Analyzing Food Price Data\n",
    "## By Richard Zhou and Daniel Zhu\n",
    "<!--Rubric: https://cmsc320.github.io/files/cmsc320_f2021_final_rubric.pdf\n",
    "1. Motivation. Does the tutorial make the reader believe the topic is relevant or important (i) in general and (ii) with respect to data science?\n",
    "2. Understanding. After reading through the tutorial, does an uninformed reader feel informed about the topic? Would a reader who already knew about the topic feel likes/he learned more about it?\n",
    "3. Other resources. Does the tutorial link out to other resources (on the web, in books, etc) that would give a lagging reader additional help on specific topics, or an advanced reader the ability to dive more deeply into a specific application area or technique? 2\n",
    "4. Prose. Does the prose portion of the tutorial actually add to the content of the deliverable?\n",
    "5. Code. Is the code well written, well documented, reproducible, and does it help the reader understand the tutorial? Does it give good examples of specific techniques?\n",
    "6. Subjective evaluation. If somebody linked to this tutorial from, say, Hacker News, would people actually read through the entire thing?-->\n",
    "\n"
   ]
  },
  {
   "cell_type": "markdown",
   "metadata": {},
   "source": [
    "# Introduction\n",
    "Food prices are an integral part of the lives of every individual. By looking at food prices, one can gauge the relative economic situation of a nation and see how the average cost of living changes over time. Specifically, due to esource shortages caused by the coronavirus we were curious to see if we could find trends in prices caused by Covid 19 or other significant events.\n",
    "In this tutorial, we will be examining the changes in food prices over time from 1974 to 2020, examining the average change in price paid for different types of food, from meats such as pork and beef to sweets. Average change in price paid by urban consumers is known as the Consumer Price Index (CPI), measured in percentage relative to a base year (100%) (<a href=\"www.bls.gov/cpi/\">bls.gov</a>). \"It is calculated by taking price changes for each item in the predetermined basket of goods and averaging them.\" (<a href=\"https://www.investopedia.com/terms/c/consumerpriceindex.asp#:~:text=The%20Consumer%20Price%20Index%20(CPI)%20is%20a%20measure%20that%20examines,of%20goods%20and%20averaging%20them.\">investopedia.com</a>) (eg. fruit CPI might include changes in cost of apples, bannanas, fresh and processed fruit, etc). CPI changes are associated with cost of living.<br> <br>\n",
    "The data comes from <a href=\"www.ers.usda.gov/data-products/food-price-outlook.aspx.\">ers.usda.gov</a> The CPI for food measures the changes in retail price of food items over time. <br> <br>\n",
    "The data table contains the percent change in CPI annually for various food items (<a href=\"https://www.investopedia.com/terms/r/reference_base_period.asp\">investopedia.com</a>). <br>\n",
    "##### CPI Annual Percent Change = (CPI(year) - CPI(previous year))/CPI(previous year) <br>\n",
    "This is simply the change in consumer price of goods by year."
   ]
  },
  {
   "cell_type": "markdown",
   "metadata": {},
   "source": [
    "# Getting the Data\n",
    "For starters, we will want to import some useful python libraries. These libraries will help us analyze and visualize data."
   ]
  },
  {
   "cell_type": "code",
   "execution_count": 1,
   "metadata": {},
   "outputs": [],
   "source": [
    "# Useful libraries for data analysis\n",
    "import pandas as pd\n",
    "import numpy as np\n",
    "import matplotlib.pyplot as plt\n",
    "import sklearn\n",
    "from matplotlib.pyplot import figure"
   ]
  },
  {
   "cell_type": "markdown",
   "metadata": {},
   "source": [
    "Now we need to get our data. Our data comes from <a href=\"www.ers.usda.gov/data-products/food-price-outlook.aspx.\">ers.usda.gov</a>, \"Annual percent changes in selected Consumer Price Indexes, 1974 through 2020.\" <br> <br> The CPIDataCleaned.xlsx simply removes some of the unnecessary rows and columns (ie. contact info, source info) so the data is read properly when using pandas.read_excel(). You can download the data directly from the cite itself and remove the extra rows and columns in excel or use the provided CPIDataCleaned.xlsx file. <br> <br>"
   ]
  },
  {
   "cell_type": "code",
   "execution_count": 23,
   "metadata": {},
   "outputs": [
    {
     "data": {
      "text/html": [
       "<div>\n",
       "<style scoped>\n",
       "    .dataframe tbody tr th:only-of-type {\n",
       "        vertical-align: middle;\n",
       "    }\n",
       "\n",
       "    .dataframe tbody tr th {\n",
       "        vertical-align: top;\n",
       "    }\n",
       "\n",
       "    .dataframe thead th {\n",
       "        text-align: right;\n",
       "    }\n",
       "</style>\n",
       "<table border=\"1\" class=\"dataframe\">\n",
       "  <thead>\n",
       "    <tr style=\"text-align: right;\">\n",
       "      <th></th>\n",
       "      <th>Consumer Price Index item</th>\n",
       "      <th>1974</th>\n",
       "      <th>1975</th>\n",
       "      <th>1976</th>\n",
       "      <th>1977</th>\n",
       "      <th>1978</th>\n",
       "      <th>1979</th>\n",
       "      <th>1980</th>\n",
       "      <th>1981</th>\n",
       "      <th>1982</th>\n",
       "      <th>...</th>\n",
       "      <th>2011</th>\n",
       "      <th>2012</th>\n",
       "      <th>2013</th>\n",
       "      <th>2014</th>\n",
       "      <th>2015</th>\n",
       "      <th>2016</th>\n",
       "      <th>2017</th>\n",
       "      <th>2018</th>\n",
       "      <th>2019</th>\n",
       "      <th>2020</th>\n",
       "    </tr>\n",
       "  </thead>\n",
       "  <tbody>\n",
       "    <tr>\n",
       "      <th>0</th>\n",
       "      <td>All food</td>\n",
       "      <td>14.3</td>\n",
       "      <td>8.5</td>\n",
       "      <td>3.0</td>\n",
       "      <td>6.3</td>\n",
       "      <td>9.9</td>\n",
       "      <td>11.0</td>\n",
       "      <td>8.6</td>\n",
       "      <td>7.8</td>\n",
       "      <td>4.1</td>\n",
       "      <td>...</td>\n",
       "      <td>3.7</td>\n",
       "      <td>2.6</td>\n",
       "      <td>1.4</td>\n",
       "      <td>2.4</td>\n",
       "      <td>1.9</td>\n",
       "      <td>0.3</td>\n",
       "      <td>0.9</td>\n",
       "      <td>1.4</td>\n",
       "      <td>1.9</td>\n",
       "      <td>3.4</td>\n",
       "    </tr>\n",
       "    <tr>\n",
       "      <th>1</th>\n",
       "      <td>Food away from home</td>\n",
       "      <td>12.7</td>\n",
       "      <td>9.4</td>\n",
       "      <td>6.8</td>\n",
       "      <td>7.6</td>\n",
       "      <td>9.1</td>\n",
       "      <td>11.1</td>\n",
       "      <td>9.9</td>\n",
       "      <td>9.0</td>\n",
       "      <td>5.4</td>\n",
       "      <td>...</td>\n",
       "      <td>2.3</td>\n",
       "      <td>2.8</td>\n",
       "      <td>2.1</td>\n",
       "      <td>2.4</td>\n",
       "      <td>2.9</td>\n",
       "      <td>2.6</td>\n",
       "      <td>2.3</td>\n",
       "      <td>2.6</td>\n",
       "      <td>3.1</td>\n",
       "      <td>3.4</td>\n",
       "    </tr>\n",
       "    <tr>\n",
       "      <th>2</th>\n",
       "      <td>Food at home</td>\n",
       "      <td>14.9</td>\n",
       "      <td>8.2</td>\n",
       "      <td>2.1</td>\n",
       "      <td>5.9</td>\n",
       "      <td>10.5</td>\n",
       "      <td>10.8</td>\n",
       "      <td>8.1</td>\n",
       "      <td>7.2</td>\n",
       "      <td>3.5</td>\n",
       "      <td>...</td>\n",
       "      <td>4.8</td>\n",
       "      <td>2.5</td>\n",
       "      <td>0.9</td>\n",
       "      <td>2.4</td>\n",
       "      <td>1.2</td>\n",
       "      <td>-1.3</td>\n",
       "      <td>-0.2</td>\n",
       "      <td>0.4</td>\n",
       "      <td>0.9</td>\n",
       "      <td>3.5</td>\n",
       "    </tr>\n",
       "    <tr>\n",
       "      <th>3</th>\n",
       "      <td>Meats, poultry, and fish</td>\n",
       "      <td>2.2</td>\n",
       "      <td>8.5</td>\n",
       "      <td>0.9</td>\n",
       "      <td>-0.6</td>\n",
       "      <td>16.7</td>\n",
       "      <td>14.9</td>\n",
       "      <td>3.7</td>\n",
       "      <td>4.1</td>\n",
       "      <td>4.1</td>\n",
       "      <td>...</td>\n",
       "      <td>7.4</td>\n",
       "      <td>3.6</td>\n",
       "      <td>2.1</td>\n",
       "      <td>7.2</td>\n",
       "      <td>1.9</td>\n",
       "      <td>-3.5</td>\n",
       "      <td>-0.1</td>\n",
       "      <td>0.7</td>\n",
       "      <td>1.0</td>\n",
       "      <td>6.3</td>\n",
       "    </tr>\n",
       "    <tr>\n",
       "      <th>4</th>\n",
       "      <td>Meats</td>\n",
       "      <td>1.8</td>\n",
       "      <td>8.5</td>\n",
       "      <td>0.2</td>\n",
       "      <td>-2.3</td>\n",
       "      <td>18.6</td>\n",
       "      <td>17.0</td>\n",
       "      <td>2.9</td>\n",
       "      <td>3.6</td>\n",
       "      <td>4.9</td>\n",
       "      <td>...</td>\n",
       "      <td>8.8</td>\n",
       "      <td>3.4</td>\n",
       "      <td>1.2</td>\n",
       "      <td>9.2</td>\n",
       "      <td>3.0</td>\n",
       "      <td>-4.4</td>\n",
       "      <td>-0.6</td>\n",
       "      <td>0.4</td>\n",
       "      <td>1.3</td>\n",
       "      <td>7.4</td>\n",
       "    </tr>\n",
       "  </tbody>\n",
       "</table>\n",
       "<p>5 rows × 48 columns</p>\n",
       "</div>"
      ],
      "text/plain": [
       "  Consumer Price Index item  1974  1975  1976  1977  1978  1979  1980  1981  \\\n",
       "0                  All food  14.3   8.5   3.0   6.3   9.9  11.0   8.6   7.8   \n",
       "1       Food away from home  12.7   9.4   6.8   7.6   9.1  11.1   9.9   9.0   \n",
       "2              Food at home  14.9   8.2   2.1   5.9  10.5  10.8   8.1   7.2   \n",
       "3  Meats, poultry, and fish   2.2   8.5   0.9  -0.6  16.7  14.9   3.7   4.1   \n",
       "4                    Meats    1.8   8.5   0.2  -2.3  18.6  17.0   2.9   3.6   \n",
       "\n",
       "   1982  ...  2011  2012  2013  2014  2015  2016  2017  2018  2019  2020  \n",
       "0   4.1  ...   3.7   2.6   1.4   2.4   1.9   0.3   0.9   1.4   1.9   3.4  \n",
       "1   5.4  ...   2.3   2.8   2.1   2.4   2.9   2.6   2.3   2.6   3.1   3.4  \n",
       "2   3.5  ...   4.8   2.5   0.9   2.4   1.2  -1.3  -0.2   0.4   0.9   3.5  \n",
       "3   4.1  ...   7.4   3.6   2.1   7.2   1.9  -3.5  -0.1   0.7   1.0   6.3  \n",
       "4   4.9  ...   8.8   3.4   1.2   9.2   3.0  -4.4  -0.6   0.4   1.3   7.4  \n",
       "\n",
       "[5 rows x 48 columns]"
      ]
     },
     "execution_count": 23,
     "metadata": {},
     "output_type": "execute_result"
    }
   ],
   "source": [
    "# First, getting the data from https://www.ers.usda.gov/data-products/food-price-outlook.aspx\n",
    "# We will be looking at the historical CPI to the changes to food prices over time from 1974 to 2020\n",
    "\n",
    "# CPIDataCleaned is an excel file that removes some of the unnecessary rows/columns from the original dataset\n",
    "\n",
    "data = pd.read_excel(\"CPIDataCleaned.xlsx\")\n",
    "data.head()"
   ]
  },
  {
   "cell_type": "markdown",
   "metadata": {},
   "source": [
    "You should now have your data stored in a pandas dataframe (called \"data\" in the example code) as seen above.\n",
    "\n",
    "Inflation calculator: https://www.bls.gov/data/inflation_calculator.htm - if we want to try to adjust the changes with inflation rates\n",
    "\n"
   ]
  },
  {
   "cell_type": "markdown",
   "metadata": {},
   "source": [
    "# Data Cleaning\n"
   ]
  },
  {
   "cell_type": "markdown",
   "metadata": {},
   "source": [
    "Let's clean up our data a bit to make it easier to do our analysis. <br> <br>\n",
    "We'll start by converting our 'Consumer Price Index item' column to our index column."
   ]
  },
  {
   "cell_type": "code",
   "execution_count": 3,
   "metadata": {},
   "outputs": [],
   "source": [
    "# convert 'Consumer Price Index item' to index\n",
    "data.set_index('Consumer Price Index item', inplace=True)"
   ]
  },
  {
   "cell_type": "markdown",
   "metadata": {},
   "source": [
    "Our data has some missing values. Specifically you may notice that there are no entries under processed fruits and vegetables until 1999."
   ]
  },
  {
   "cell_type": "code",
   "execution_count": 15,
   "metadata": {},
   "outputs": [
    {
     "name": "stdout",
     "output_type": "stream",
     "text": [
      "1974   NaN\n",
      "1975   NaN\n",
      "1976   NaN\n",
      "1977   NaN\n",
      "1978   NaN\n",
      "1979   NaN\n",
      "1980   NaN\n",
      "1981   NaN\n",
      "1982   NaN\n",
      "1983   NaN\n",
      "Name: Processed fruits and vegetables, dtype: float64\n",
      "...\n",
      "2016   -0.3\n",
      "2017   -1.6\n",
      "2018   -0.6\n",
      "2019    1.1\n",
      "2020    3.5\n",
      "Name: Processed fruits and vegetables, dtype: float64\n"
     ]
    }
   ],
   "source": [
    "# print the first 10 entries in data['Processed fruits and vegetables'] to show they are missing\n",
    "print(data.loc['Processed fruits and vegetables'][:10])\n",
    "print(\"...\")\n",
    "print(data.loc['Processed fruits and vegetables'][-5:])"
   ]
  },
  {
   "cell_type": "markdown",
   "metadata": {},
   "source": [
    "There are a couple of ways of dealing with this. For starters, we could just drop the row entirely. However, it still contains useful data. For now, we'll use mean imputation, meaning we'll take the average CPI of the year and fill in the missing columns that way. This way, the data can still be included when we graph the CPI of all of the data. We may want to handle the missing data differently later however, so we'll specify when that happens."
   ]
  },
  {
   "cell_type": "code",
   "execution_count": 20,
   "metadata": {},
   "outputs": [
    {
     "data": {
      "text/plain": [
       "0    13.609524\n",
       "1     8.557143\n",
       "2     2.319048\n",
       "3     6.771429\n",
       "4    11.223810\n",
       "5    10.285714\n",
       "6     7.376190\n",
       "7     7.866667\n",
       "8     3.428571\n",
       "9     1.042857\n",
       "Name: Processed fruits and vegetables, dtype: float64"
      ]
     },
     "execution_count": 20,
     "metadata": {},
     "output_type": "execute_result"
    }
   ],
   "source": [
    "from sklearn.impute import SimpleImputer\n",
    "\n",
    "# convert any missing data to np.NaN\n",
    "data.replace('N/A', np.NaN)\n",
    "\n",
    "# impute missing values using mean of that year\n",
    "imp = SimpleImputer(missing_values=np.nan, strategy='mean')\n",
    "\n",
    "# we'll store it in a new data frame because we might want the original one with the NaN's later\n",
    "data_mean_impute = pd.DataFrame(imp.fit_transform(data.values), index=data.index)\n",
    "\n",
    "# we can now see the missing data has been replaced by the average value of that year\n",
    "data_mean_impute.loc['Processed fruits and vegetables'][:10]"
   ]
  },
  {
   "cell_type": "code",
   "execution_count": null,
   "metadata": {},
   "outputs": [],
   "source": [
    "# We are transposing the dataframe so we can create a violin plot of it based on a year column.\n",
    "data_t = data.transpose()\n",
    "data_t.columns = data_t.iloc[0]\n",
    "data_t.drop([\"Consumer Price Index item\"], axis = 0, inplace = True)\n",
    "data_t.head()"
   ]
  },
  {
   "cell_type": "markdown",
   "metadata": {},
   "source": [
    "# Exploratory Data Analysis\n",
    "We want to see how the CPI changes for all food so that we have an idea of what to try and look for once we start using machine learning. To do so, we are going to create a violin plot for each year to plot the distribution of points to see how the change in CPI shift over time and see if there are any discernable trends"
   ]
  },
  {
   "cell_type": "code",
   "execution_count": null,
   "metadata": {},
   "outputs": [],
   "source": [
    "# Creating the violin plot\n",
    "# list of years\n",
    "years = list(data_t.index)\n",
    "# list of lists - each of the sublists are the CPI change for the corresponding year\n",
    "cpi_year = data_t.values.tolist()\n",
    "\n",
    "fig, ax = plt.subplots()\n",
    "\n",
    "ax.violinplot(cpi_year,years, widths = .5, showmeans=True)\n",
    "ax.set_xlabel(\"Year\")\n",
    "ax.set_ylabel(\"CPI Change (%)\")\n",
    "ax.set_title(\"Changes in CPI from 1974 to 2020\")"
   ]
  },
  {
   "cell_type": "markdown",
   "metadata": {},
   "source": [
    "Note that our graph starts from 1999 and not 1974, since \"Processed fruits and vegetables\" have N/A values up till 1998. \n",
    "\n",
    "There does not seem to be any major shift in the overall CPI changes over time. Since these values represents changes in CPI, the price of food generally has steadily increase, though this could easily be attributed to inflation over time. We will next look at each of the food types to see how they have changed over time."
   ]
  },
  {
   "cell_type": "code",
   "execution_count": null,
   "metadata": {},
   "outputs": [],
   "source": [
    "figure, axis = plt.subplots(len(data_t.columns), figsize = (20,200))\n",
    "for i, col in enumerate(data_t.columns):\n",
    "    axis[i].plot(data_t.index, data_t[col])\n",
    "    axis[i].set_title(f'Food type: {col}')\n",
    "    axis[i].set_xlabel('Year')\n",
    "    axis[i].set_ylabel('CPI Changes (%)')\n",
    "\n",
    "# Plotting all of the changes on one graph\n",
    "NUM_COLORS = len(data_t.columns)\n",
    "cm = plt.get_cmap('gist_rainbow')\n",
    "fig = plt.figure(figsize=(20,10))\n",
    "ax = fig.add_subplot(111)\n",
    "ax.set_prop_cycle(color = [cm(1.*i/NUM_COLORS) for i in range(NUM_COLORS)])\n",
    "for col in data_t.columns:\n",
    "    plt.plot(data_t.index, data_t[col], label = col)\n",
    "plt.title(f'All Food Together')\n",
    "plt.xlabel('Year')\n",
    "plt.ylabel('CPI Changes (%)')\n",
    "plt.legend()"
   ]
  },
  {
   "cell_type": "markdown",
   "metadata": {},
   "source": [
    "In many of the previous graphs, the changes were very large in the late 1900s before decreasing going into the early 2000s. The graphs also showcase many dynamic changes, constantly fluctuating between positive and negative values for some of the CPI changes. Although, the data is a bit unclear since the colors on the combined graph are similar, if we look at the graph for \"All food\", CPI change reamined positive with spikes in the late 1970s, late 1980s, and late 2000s."
   ]
  },
  {
   "cell_type": "markdown",
   "metadata": {},
   "source": [
    "What would this look like from an absolute CPI perspective - what does the absolute change in food pirce look like? To answer this, we will assume that the price for any food starts at 1 right before 1974 and see how the absolute price for each of the food changes over time."
   ]
  },
  {
   "cell_type": "code",
   "execution_count": null,
   "metadata": {},
   "outputs": [],
   "source": [
    "abs_data = pd.DataFrame()\n",
    "figure, axis = plt.subplots(len(data_t.columns), figsize = (20,200))\n",
    "for i, col in enumerate(data_t.columns):\n",
    "    curr_val = 1\n",
    "    values = []\n",
    "    for val in data_t[col]:\n",
    "        curr_val = curr_val + curr_val*(val/100)\n",
    "        values.append(curr_val)\n",
    "    abs_data[col] = pd.Series(values, index = data_t.index)\n",
    "    axis[i].plot(abs_data.index, abs_data[col])\n",
    "    axis[i].set_title(f'Food type: {col}')\n",
    "    axis[i].set_xlabel('Year')\n",
    "    axis[i].set_ylabel('Absolute CPI (%)')\n",
    "# Taking a look at the new data\n",
    "print(abs_data.head())\n",
    "\n",
    "# Plotting all of the changes on one graph\n",
    "NUM_COLORS = len(abs_data.columns)\n",
    "cm = plt.get_cmap('gist_rainbow')\n",
    "fig = plt.figure(figsize=(20,10))\n",
    "ax = fig.add_subplot(111)\n",
    "ax.set_prop_cycle(color = [cm(1.*i/NUM_COLORS) for i in range(NUM_COLORS)])\n",
    "for col in abs_data.columns:\n",
    "    plt.plot(abs_data.index, abs_data[col], label = col)\n",
    "plt.title(f'All Food')\n",
    "plt.xlabel('Year')\n",
    "plt.ylabel('Absolute CPI (%)')\n",
    "plt.legend()"
   ]
  },
  {
   "cell_type": "markdown",
   "metadata": {},
   "source": [
    "The graphs above corroborate the information given by the earlier graphs, showing how the prices for all foods have been steadily increasing throughout the years, with many of the graphs having a spike around 1990 and 2008, with a shallow dip around the years leading up to 2020. The spike around 2008 could be related to the 2008 global financial crisis, causing food prices to spike up, albeit temporary. The data does not extend long enough to see how the COVID-19 pandemic has affected food prices, but futhur updates to the data can clarify that aspect.\n",
    "\n",
    "What we can see is that some foods have been increasing in price faster than other foods. Assuming that the foods started at the same price, fresh fruits have been increasing the fastest, followed by fresh fruits and vegetables.\n",
    "\n",
    "The overall change in food pirce is mostly linear, which shows that although certain events may causes to fluctuate sharply, they overall do not affect the long-term price trends of the food.\n",
    "# Blah BLAH BLAH BLAH"
   ]
  },
  {
   "cell_type": "markdown",
   "metadata": {},
   "source": [
    "# Machine Learning and Hypothesis Testing\n",
    "We mentioned earlier that we wanted to use the data to see if there was any particular change in food prices over time. This will require the use of unsupervised learning, since we want to see if we can differentiate between the food groups. \n",
    "\n",
    "We will be using linear regression\n",
    "\n",
    "Maybe if we looked at whether certain food groups increases at the same rate?\n",
    "We can also look at residuals that are present to see how accurate/precise our model is.\n",
    "\n",
    "If we want to, there can be some way we can classify the residuals so that we can split them into correct/incorrect and then calculate precision/recall/F1 on them."
   ]
  }
 ],
 "metadata": {
  "interpreter": {
   "hash": "cd78fef2128015050713e82ca51c6520b11aee7c9ee8df750520bbbc7384cbaa"
  },
  "kernelspec": {
   "display_name": "Python 3",
   "language": "python",
   "name": "python3"
  },
  "language_info": {
   "codemirror_mode": {
    "name": "ipython",
    "version": 3
   },
   "file_extension": ".py",
   "mimetype": "text/x-python",
   "name": "python",
   "nbconvert_exporter": "python",
   "pygments_lexer": "ipython3",
   "version": "3.8.6"
  }
 },
 "nbformat": 4,
 "nbformat_minor": 2
}
