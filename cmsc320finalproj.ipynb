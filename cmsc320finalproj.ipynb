{
 "cells": [
  {
   "cell_type": "markdown",
   "metadata": {},
   "source": [
    "# CMSC320 Final Project: Analyzing Food Price Data\n",
    "## By Richard Zhou and Daniel Zhu"
   ]
  },
  {
   "cell_type": "markdown",
   "metadata": {},
   "source": [
    "# Introduction:"
   ]
  },
  {
   "cell_type": "code",
   "execution_count": 1,
   "metadata": {},
   "outputs": [
    {
     "name": "stdout",
     "output_type": "stream",
     "text": [
      "what\n"
     ]
    }
   ],
   "source": [
    "# Rubric: https://cmsc320.github.io/files/cmsc320_f2021_final_rubric.pdf\n",
    "\"\"\"\n",
    "1. Motivation. Does the tutorial make the reader believe the topic is relevant or im-\n",
    "portant (i) in general and (ii) with respect to data science?\n",
    "2. Understanding. After reading through the tutorial, does an uninformed reader feel\n",
    "informed about the topic? Would a reader who already knew about the topic feel like\n",
    "s/he learned more about it?\n",
    "3. Other resources. Does the tutorial link out to other resources (on the web, in books,\n",
    "etc) that would give a lagging reader additional help on specific topics, or an advanced\n",
    "reader the ability to dive more deeply into a specific application area or technique?\n",
    "2\n",
    "4. Prose. Does the prose portion of the tutorial actually add to the content of the\n",
    "deliverable?\n",
    "5. Code. Is the code well written, well documented, reproducible, and does it help the\n",
    "reader understand the tutorial? Does it give good examples of specific techniques?\n",
    "6. Subjective evaluation. If somebody linked to this tutorial from, say, Hacker News,\n",
    "would people actually read through the entire thing?\n",
    "\"\"\"\n",
    "print(\"what\")"
   ]
  },
  {
   "cell_type": "code",
   "execution_count": null,
   "metadata": {},
   "outputs": [],
   "source": [
    "f"
   ]
  }
 ],
 "metadata": {
  "interpreter": {
   "hash": "cd78fef2128015050713e82ca51c6520b11aee7c9ee8df750520bbbc7384cbaa"
  },
  "kernelspec": {
   "display_name": "Python 3.7.3 64-bit ('base': conda)",
   "language": "python",
   "name": "python3"
  },
  "language_info": {
   "codemirror_mode": {
    "name": "ipython",
    "version": 3
   },
   "file_extension": ".py",
   "mimetype": "text/x-python",
   "name": "python",
   "nbconvert_exporter": "python",
   "pygments_lexer": "ipython3",
   "version": "3.7.3"
  },
  "orig_nbformat": 4
 },
 "nbformat": 4,
 "nbformat_minor": 2
}
